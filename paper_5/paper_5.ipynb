{
 "cells": [
  {
   "cell_type": "markdown",
   "metadata": {},
   "source": [
    "# Plotting Data with Python and The Jupyter Notebook.\n",
    "\n",
    "* *Paper 5*\n",
    "* *Eng 290*\n",
    "* *By: Bryce DeAlessio*"
   ]
  },
  {
   "cell_type": "markdown",
   "metadata": {},
   "source": [
    "## A. Introduction\n",
    "There are plenty of software tools available for graphical plotting of data. Microsoft Excel is likely the tool most are familiar with. Some other tools might include Minitab or Google Doc's Spreadsheets. However there are other tools available that are much more powerful than a spreadsheet program but require the knowledge of a programming language to use. Matlab is probably one the most well known programming languages for plotting data. While Matlab is a very useful tool it is also not free nor is it's source-code Open Source. This makes it hard to share code and the insights gained from executing it upon any given dataset.\n",
    "\n",
    "### A.1 Definition\n",
    "Python is a general purpose programing language who's main features are it's human readable syntax, it's \"batteries included\" philosophy, quality documentation, and it's ability to inter-operate with other programming languages. Python also has a liberal open source license which makes it free to use and modify both personally and commercially. \n",
    "\n",
    "The Jupyter Notebook is a web-browser based interactive programming environment that can mix many types of rich web based content along with code execution. This paper is written entirely inside of a Jupyter Notebook Document. A Jupyter Notebook Document contains Visual Input and Output Cells. Input Cells can be set to contain code, plain text, or web based content like Markdown, pure HTML and even LaTex.\n",
    "\n",
    "### A.2 Overview\n",
    "\n",
    "The following major topics will be covered:\n",
    "\n",
    "1. Installation of Python and the Jupyter Notebook via a packaged distribution called \"Anaconda\".\n",
    "2. Starting the Jupyter Notebook Application.\n",
    "3. Writing and Explanation of the code Necessary to plot the given data-set.\n"
   ]
  },
  {
   "cell_type": "markdown",
   "metadata": {
    "nbpresent": {
     "id": "b83b7222-c2fa-42d6-aefe-cc1d53db2f7d"
    }
   },
   "source": [
    "## 1. Installing Python & Jupyter Notebook\n",
    "\n",
    "### 1.1 Definition\n",
    "As previously discussed Python does not automatically come with the third party packages that make up what is commonly referred to as the \"Scientific Stack\" they must be installed separately. However This can be difficult especially on windows because it requires what's called a compiler for many of the non-python code modules. Thankfully there are a number of Python \"Distributions\" which bundle Python along with pre-compiled versions of all the fancy tools that make working with Python so awesome. This Bundling makes it easy to get started. The Number one Distribution is called \"Anaconda\" and it contains all of the most popular packages for scientific computing. \"Anaconda\" is produced by a company called Contiuum Analytics.\n",
    "\n",
    "* Overview\n",
    "* Background\n",
    "* Dangers/Cautions\n",
    "* Equipment\n",
    "\n",
    "### 1.2 Direction\n",
    "1. In an internet Browser go to <https://www.continuum.io/downloads>.\n",
    "2. For this tutorial we will be using the Microsoft Windows version. So look for the Windows symbol  on Downloads Page and click on it. ![Windows](https://www.continuum.io/sites/all/themes/continuum/assets/images/downloads/windows.png) This will take you to the windows versions.\n",
    "3. There are two major versions of Anaconda, One version is for the Python 3.x (3.6 as of writing) version, and the other is for Python 2.7 which is considered legacy(recieves bug fixes and security updates only) therefore this tutorial will focus on python 3.\n",
    "4. Under each version there is a choice for the 64bit or 32bit version. Select the one that fit's the computer's processor architecture. As most modern (built within the last 5 years) computers & laptops have 64bit processors it's a safe bet to choose the 64 bit version.\n",
    "5. click the download button and follow the on-screen instructions to install Anaconda.\n",
    "6. During the Install you will be given a choice to install for all-users or for  a single-user. Make sure to select the single-user option.\n",
    "\n",
    "### 1.3 Result\n",
    "When the installation is complete the user should see a new folder in their Windows Start-Menu called \"Anaconda3\". Within this menu notice the Jupyter icon.\n",
    "\n",
    "* Transition\n",
    "* Conclusion\n",
    "* Summary\n",
    "* Information"
   ]
  },
  {
   "cell_type": "markdown",
   "metadata": {
    "nbpresent": {
     "id": "73103b5b-2f1c-4043-9a1c-f6e94ecd4423"
    }
   },
   "source": [
    "## 2. Starting a Jupyter Notebook\n",
    "\n",
    "### 2.1 Definition\n",
    "\n",
    "The Jupyter Notebook is web-based Interactive code execution environment. In Python, code is written to text files that are passed to the python interpreter program to run all at once. With the Jupyter Notebook, code can be executed in separate blocks of code called \"code-cells\" any output from the code executed in a code-cell will be shown in an output-cell directly below the code-cell. These output cells will also display the results of any graphical plots.\n",
    "* Overview\n",
    "* Background\n",
    "\n",
    "### 2.2 Dangers/Cautions\n",
    "\n",
    "Running the Notebook from the start menu will open the notebook file browser in your computer's current user-profile. The file browser cannot browse above this directory for security purposes.\n",
    "\n",
    "### 2.3 Equipment\n",
    "\n",
    "A modern web browser such as Google Chrome, Firefox or Internet Explorer 11 plus, is required.\n",
    "\n",
    "### 2.4 Direction\n",
    "1. Start the Jupyter Notebook by going to the Windows Start menu and selecting \"Anaconda3\". Then select the icon for the \"Jupyter Notebook\". In a few seconds the computer's default browser should start with the Jupyter file browser tab active.\n",
    "2. In the top right of the file tab select the dropdown button that says \"New\" ![New Notebook](New.png \"Figure 2\")\n",
    "3. Select the Python[root] or Python[default] option within the dropdown box. After doing so a new browser tab should open with the notebook active.\n",
    "\n",
    "\n",
    "* Result\n",
    "* Transition\n"
   ]
  },
  {
   "cell_type": "markdown",
   "metadata": {},
   "source": [
    "## 3. Writing the code\n",
    "\n",
    "### 3.1 Definition\n",
    "Writing the code is the actual process of writing the various statements and expressions that the computer can translate into special instructions that when executed makes the computer do something. Within the Jupyter Notebook the code in a cell can be executed independently from other code cells at will by clicking the play button in the Notebook toolbar or pressing ctrl+Enter on the keyboard.\n",
    "\n",
    "### 3.2 Overview\n",
    "what follows is a step by step explanation of the code necessary to plot our snowfall totals. a typical python program begins with the imports, then actual code and if it is a script to run then a \"main\" statement.\n",
    "\n",
    "* Background\n",
    "* Dangers/Cautions\n",
    "* Equipment\n",
    "* Direction"
   ]
  },
  {
   "cell_type": "markdown",
   "metadata": {},
   "source": [
    "### 3.3 Writing the code - imports\n",
    "\n",
    "### 3.3.1 Definition\n",
    "The import statement in Python is what allows you to use the code in other python modules(files) within your own program. typically one would write functions, which are re-usable blocks of code that are given a name and then use those functions in many places in other modules.\n",
    "\n",
    "### 3.3.2 Overview\n",
    "what follows is a step by step explanation of the code necessary to plot our snowfall totals. A typical python program begins with the imports, then actual code and if it is a script to run then a \"main\" statement.\n",
    "\n",
    "* Background\n",
    "* Dangers/Cautions\n",
    "* Equipment\n",
    "\n",
    "### 3.3.3 Direction\n",
    "\n",
    "#### Figure 4"
   ]
  },
  {
   "cell_type": "code",
   "execution_count": 1,
   "metadata": {
    "collapsed": true
   },
   "outputs": [],
   "source": [
    "import pandas\n",
    "import matplotlib.pyplot as plt\n",
    "%matplotlib inline"
   ]
  },
  {
   "cell_type": "markdown",
   "metadata": {},
   "source": [
    "1. Line #1 imports the pandas package which provides us with something called a \"DataFrame\" which is a table-like data structure similar to a Microsoft Excel sheet.\n",
    "2. On line #2 we import the plotting package called matplotlib. Matplotlib has many sub-packages and we access the plotting commands sub-package called \"pyplot\" with the '.' (dot operator). Adding the \"as\" statement with a new variable creates an easier to type shorcut to the matplotlib.pyplot module.\n",
    "3. Line #3 is not python specific code but a shortcut command for the notebook which tells it to display graphical plots in the notebook page beneath the code-cell rather than a separate window.\n",
    "4. With the code cell still selected, execute the cell by clicking the play button in the jupyter menu-bar or typing ctrl+Enter."
   ]
  },
  {
   "cell_type": "markdown",
   "metadata": {
    "nbpresent": {
     "id": "1a74a59b-997d-443e-a383-31f4e06bd54b"
    }
   },
   "source": [
    "### Result\n",
    "Now all the extra code from these modules is available for use.\n",
    "### Transition\n",
    "lets move on to getting our data into python."
   ]
  },
  {
   "cell_type": "code",
   "execution_count": 2,
   "metadata": {
    "collapsed": false
   },
   "outputs": [],
   "source": [
    "years = list(range(2000, 2011))\n",
    "years.sort(reverse=True)\n",
    "snow_totals = [60,34,25,27,9,48,44,24,16,33,19]"
   ]
  },
  {
   "cell_type": "markdown",
   "metadata": {},
   "source": [
    "1. Line #1 creates a list of the years from our Snowfall data-set and asigns it to a variable called \"years\". While the range of years can be manualy written out python's \"range\" function is used instead. The \"range\" function can iether take a single integer(whole number); two integers, a starting number and an ending number; or optionaly, a third number defining a step between each number generated. The numbers generated always end up one less than the number given. This is common for most programming languages as computers always count from zero. Note: the range function does not actualy produce a list of values right away it creates an iterator that yields one value at a time. Using the \"list\" constructor function immediatly pulls each value from an iterator like range and stores it in the list.\n",
    "2. Line #2 a feature of a python list called sort is used. \"sort\" is what is called a method. It is a function that is attached to the list. This is to make sure the Years are in decending order just like our example data-set.\n",
    "3. In Line #3 due to their random nature the snow fall totals must input directly to create a direct list. This list is constructed by writing out a comma separated sequence of numbers bounded with an opening and closing square bracket. The list is assigned to the variable snow_totals\n",
    "4. Again Execute the code as previously perfomed.\n",
    "\n",
    "Now that the data is in two separate lists they can be glued together into Something called a DataFrame. A DataFrame comes from the Pandas Library that was imported in the previous set of steps. It is a two dimensional Tabular data structure similar to a Microsoft Excel Sheet."
   ]
  },
  {
   "cell_type": "code",
   "execution_count": 3,
   "metadata": {
    "collapsed": false
   },
   "outputs": [
    {
     "data": {
      "text/html": [
       "<div>\n",
       "<table border=\"1\" class=\"dataframe\">\n",
       "  <thead>\n",
       "    <tr style=\"text-align: right;\">\n",
       "      <th></th>\n",
       "      <th>Year</th>\n",
       "      <th>Snowfall Totals</th>\n",
       "    </tr>\n",
       "  </thead>\n",
       "  <tbody>\n",
       "    <tr>\n",
       "      <th>0</th>\n",
       "      <td>2010</td>\n",
       "      <td>60</td>\n",
       "    </tr>\n",
       "    <tr>\n",
       "      <th>1</th>\n",
       "      <td>2009</td>\n",
       "      <td>34</td>\n",
       "    </tr>\n",
       "    <tr>\n",
       "      <th>2</th>\n",
       "      <td>2008</td>\n",
       "      <td>25</td>\n",
       "    </tr>\n",
       "    <tr>\n",
       "      <th>3</th>\n",
       "      <td>2007</td>\n",
       "      <td>27</td>\n",
       "    </tr>\n",
       "    <tr>\n",
       "      <th>4</th>\n",
       "      <td>2006</td>\n",
       "      <td>9</td>\n",
       "    </tr>\n",
       "    <tr>\n",
       "      <th>5</th>\n",
       "      <td>2005</td>\n",
       "      <td>48</td>\n",
       "    </tr>\n",
       "    <tr>\n",
       "      <th>6</th>\n",
       "      <td>2004</td>\n",
       "      <td>44</td>\n",
       "    </tr>\n",
       "    <tr>\n",
       "      <th>7</th>\n",
       "      <td>2003</td>\n",
       "      <td>24</td>\n",
       "    </tr>\n",
       "    <tr>\n",
       "      <th>8</th>\n",
       "      <td>2002</td>\n",
       "      <td>16</td>\n",
       "    </tr>\n",
       "    <tr>\n",
       "      <th>9</th>\n",
       "      <td>2001</td>\n",
       "      <td>33</td>\n",
       "    </tr>\n",
       "    <tr>\n",
       "      <th>10</th>\n",
       "      <td>2000</td>\n",
       "      <td>19</td>\n",
       "    </tr>\n",
       "  </tbody>\n",
       "</table>\n",
       "</div>"
      ],
      "text/plain": [
       "    Year  Snowfall Totals\n",
       "0   2010               60\n",
       "1   2009               34\n",
       "2   2008               25\n",
       "3   2007               27\n",
       "4   2006                9\n",
       "5   2005               48\n",
       "6   2004               44\n",
       "7   2003               24\n",
       "8   2002               16\n",
       "9   2001               33\n",
       "10  2000               19"
      ]
     },
     "execution_count": 3,
     "metadata": {},
     "output_type": "execute_result"
    }
   ],
   "source": [
    "snowfall_table = pandas.DataFrame()\n",
    "snowfall_table['Year'] = years\n",
    "snowfall_table['Snowfall Totals'] = snow_totals\n",
    "snowfall_table"
   ]
  },
  {
   "cell_type": "markdown",
   "metadata": {},
   "source": [
    "In this next section a pandas DataFrame is used to unite the two sepparate lists 'years' and 'Snowfall Totals' into a single table.\n",
    "1. Line #1 creates an empty DataFrame object and assigns it to the variable \"snowfall_table\".\n",
    "2. Line #2 creates a column in the Dataframe called 'Year' and assigns the \"years\" list of values to this column. The square brackets adjacent to the DataFrame."
   ]
  },
  {
   "cell_type": "code",
   "execution_count": 4,
   "metadata": {
    "collapsed": false
   },
   "outputs": [
    {
     "data": {
      "text/plain": [
       "<matplotlib.text.Text at 0x1c06fabdc50>"
      ]
     },
     "execution_count": 4,
     "metadata": {},
     "output_type": "execute_result"
    },
    {
     "data": {
      "image/png": "[encoded data removed]",
      "text/plain": [
       "<matplotlib.figure.Figure at 0x1c06fa60f28>"
      ]
     },
     "metadata": {},
     "output_type": "display_data"
    }
   ],
   "source": [
    "snow_plot = snowfall_table.plot(x='Year', y='Snowfall Totals', fontsize=12, figsize=(11,7), grid=True)\n",
    "snow_plot.yaxis.set_label_text('Inches')"
   ]
  },
  {
   "cell_type": "code",
   "execution_count": 5,
   "metadata": {
    "collapsed": false
   },
   "outputs": [],
   "source": [
    "snow_fig = snow_plot.get_figure()\n",
    "snow_fig.savefig('snowfall_totals.png')"
   ]
  },
  {
   "cell_type": "code",
   "execution_count": 7,
   "metadata": {
    "collapsed": false,
    "nbpresent": {
     "id": "c5997cf4-0cc9-4e7c-b6bd-a9f7c77f6b9e"
    }
   },
   "outputs": [
    {
     "data": {
      "text/html": [
       "\n",
       "<style>\n",
       ".text_cell_render > p,ol,ul {font-size: 16px}\n",
       ".text_cell_render > p,ol,ul {line-height: 25px}\n",
       "</style>\n"
      ],
      "text/plain": [
       "<IPython.core.display.HTML object>"
      ]
     },
     "execution_count": 7,
     "metadata": {},
     "output_type": "execute_result"
    }
   ],
   "source": [
    "from IPython.display import display, HTML\n",
    "HTML(\n",
    "\"\"\"\n",
    "<style>\n",
    ".text_cell_render > p,ol,ul {font-size: 16px}\n",
    ".text_cell_render > p,ol,ul {line-height: 25px}\n",
    "</style>\n",
    "\"\"\")"
   ]
  },
  {
   "cell_type": "markdown",
   "metadata": {},
   "source": [
    "## Citations\n"
   ]
  }
 ],
 "metadata": {
  "anaconda-cloud": {},
  "kernelspec": {
   "display_name": "Python [conda root]",
   "language": "python",
   "name": "conda-root-py"
  },
  "language_info": {
   "codemirror_mode": {
    "name": "ipython",
    "version": 3
   },
   "file_extension": ".py",
   "mimetype": "text/x-python",
   "name": "python",
   "nbconvert_exporter": "python",
   "pygments_lexer": "ipython3",
   "version": "3.5.1"
  }
 },
 "nbformat": 4,
 "nbformat_minor": 1
}
