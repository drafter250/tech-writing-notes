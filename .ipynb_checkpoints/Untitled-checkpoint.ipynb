{
 "cells": [
  {
   "cell_type": "markdown",
   "metadata": {},
   "source": [
    "# Plotting data with Python\n",
    "\n",
    "* *Paper 5*\n",
    "* *Eng 290*\n",
    "* *By: Bryce DeAlessio*"
   ]
  },
  {
   "cell_type": "markdown",
   "metadata": {},
   "source": [
    "## Introduction\n",
    "There are Plenty of software tools available for graphicaly plotting data. Microsoft Excel is likely the tool most are familliar with. Some other tools might include Minitab or Google Doc's Spreadsheets. However there are other tools available that are much more powerful than a spreadsheet Program but require the knowledge of a programming language to use. Matlab is probably the most well known programming languages for plotting data. While matlab is \n",
    "\n",
    "### Definition\n",
    "Unlike Matlab Python is a general purpose programing language who's main features are it's human readable syntax, it's \"batteries included\" philosophy, quality documentation, and it's ability to interoperate with other programming languages. Python also has a liberal open source Liscence which make it free to use  It's Open Source It's Graphical plotting with Python utilizes a number of third party packages\n",
    "\n",
    "\n",
    "### Theory\n",
    "\n",
    "### Steps"
   ]
  },
  {
   "cell_type": "markdown",
   "metadata": {},
   "source": [
    "## Installing Python\n",
    "## Discussion\n",
    "\n",
    "### Definition\n",
    "As previously discussed Python does not automaticaly come with the packages that make up what is commonly refered to as the scientific data stack they must be installed separately. However This can be difficult especialy on windows because it requires what's called a compiler for many of the non-python code modules. Thankfully there are a number of Python \"Distributions\" which bundle Python along with pre-compiled versions of all the fancy tools that make working with Python so awesome. This Bundling makes it easy to get started. The Number one Distribution is called \"Anaconda\" and it contains all of the most popular packages for scientific computing. \"Anaconda\" is produced by a company called Contiuum Analytics.\n",
    "\n",
    "\n",
    "### Overview\n",
    "\n",
    "### Background\n",
    "\n",
    "### Dangers/Cautions\n",
    "\n",
    "### Equipment\n",
    "\n",
    "### Direction\n",
    "1. In an internet Browser go to www.continuum.io/downloads.\n",
    "2. For this tutorial we will be using the Windows Version. So look for the Windows Symbol on Downloads Page and click on it. This will Scroll you down to the windows version\n",
    "\n",
    "### Result\n",
    "\n",
    "### Transition\n",
    "\n",
    "## Conclusion\n",
    "\n",
    "### Summary\n",
    "\n",
    "### Information"
   ]
  },
  {
   "cell_type": "markdown",
   "metadata": {},
   "source": [
    "## Starting a Jupyter Notebook\n",
    "## Discussion\n",
    "\n",
    "### Definition\n",
    "\n",
    "### Overview\n",
    "\n",
    "### Background\n",
    "\n",
    "### Dangers/Cautions\n",
    "\n",
    "### Equipment\n",
    "\n",
    "### Direction\n",
    "\n",
    "### Result\n",
    "\n",
    "### Transition\n"
   ]
  },
  {
   "cell_type": "markdown",
   "metadata": {},
   "source": [
    "## Writing the code\n",
    "## Discussion\n",
    "\n",
    "### Definition\n",
    "\n",
    "### Overview\n",
    "\n",
    "### Background\n",
    "\n",
    "### Dangers/Cautions\n",
    "\n",
    "### Equipment\n",
    "\n",
    "### Direction\n",
    "\n",
    "\n",
    "### Result\n",
    "\n",
    "### Transition\n"
   ]
  },
  {
   "cell_type": "code",
   "execution_count": null,
   "metadata": {
    "collapsed": true
   },
   "outputs": [],
   "source": []
  }
 ],
 "metadata": {
  "anaconda-cloud": {},
  "kernelspec": {
   "display_name": "Python [conda root]",
   "language": "python",
   "name": "conda-root-py"
  },
  "language_info": {
   "codemirror_mode": {
    "name": "ipython",
    "version": 3
   },
   "file_extension": ".py",
   "mimetype": "text/x-python",
   "name": "python",
   "nbconvert_exporter": "python",
   "pygments_lexer": "ipython3",
   "version": "3.5.2"
  }
 },
 "nbformat": 4,
 "nbformat_minor": 1
}
