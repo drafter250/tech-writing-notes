{
 "cells": [
  {
   "cell_type": "markdown",
   "metadata": {},
   "source": [
    "# Plotting data with Python\n",
    "\n",
    "* *Paper 5*\n",
    "* *Eng 290*\n",
    "* *By: Bryce DeAlessio*"
   ]
  },
  {
   "cell_type": "markdown",
   "metadata": {},
   "source": [
    "## Introduction\n",
    "There are Plenty of software tools available for graphicaly plotting data. Microsoft Excel is likely the tool most are familliar with. Some other tools might include Minitab or Google Doc's Spreadsheets. However there are other tools available that are much more powerful than a spreadsheet Program but require the knowledge of a programming language to use. Matlab is probably the most well known programming languages for plotting data. While matlab is \n",
    "\n",
    "### Definition\n",
    "Unlike Matlab Python is a general purpose programing language who's main features are it's human readable syntax, it's \"batteries included\" philosophy, quality documentation, and it's ability to interoperate with other programming languages. It's Graphical plotting with Python utilizes a number of third party packages\n",
    "\n",
    "\n",
    "\n",
    "### Theory\n",
    "\n",
    "### Steps"
   ]
  },
  {
   "cell_type": "markdown",
   "metadata": {},
   "source": [
    "## Installing Python\n",
    "## Discussion\n",
    "\n",
    "### Definition\n",
    "\n",
    "### Overview\n",
    "\n",
    "### Background\n",
    "\n",
    "### Dangers/Cautions\n",
    "\n",
    "### Equipment\n",
    "\n",
    "### Direction\n",
    "\n",
    "### Result\n",
    "\n",
    "### Transition\n",
    "\n",
    "## Conclusion\n",
    "\n",
    "### Summary\n",
    "\n",
    "### Information"
   ]
  },
  {
   "cell_type": "markdown",
   "metadata": {},
   "source": [
    "## Starting a Jupyter Notebook\n",
    "## Discussion\n",
    "\n",
    "### Definition\n",
    "\n",
    "### Overview\n",
    "\n",
    "### Background\n",
    "\n",
    "### Dangers/Cautions\n",
    "\n",
    "### Equipment\n",
    "\n",
    "### Direction\n",
    "\n",
    "### Result\n",
    "\n",
    "### Transition\n"
   ]
  },
  {
   "cell_type": "markdown",
   "metadata": {},
   "source": [
    "## Writing the code\n",
    "## Discussion\n",
    "\n",
    "### Definition\n",
    "\n",
    "### Overview\n",
    "\n",
    "### Background\n",
    "\n",
    "### Dangers/Cautions\n",
    "\n",
    "### Equipment\n",
    "\n",
    "### Direction\n",
    "\n",
    "### Result\n",
    "\n",
    "### Transition\n"
   ]
  },
  {
   "cell_type": "code",
   "execution_count": null,
   "metadata": {
    "collapsed": true
   },
   "outputs": [],
   "source": []
  }
 ],
 "metadata": {
  "anaconda-cloud": {},
  "kernelspec": {
   "display_name": "Python [conda root]",
   "language": "python",
   "name": "conda-root-py"
  },
  "language_info": {
   "codemirror_mode": {
    "name": "ipython",
    "version": 2
   },
   "file_extension": ".py",
   "mimetype": "text/x-python",
   "name": "python",
   "nbconvert_exporter": "python",
   "pygments_lexer": "ipython2",
   "version": "2.7.12"
  }
 },
 "nbformat": 4,
 "nbformat_minor": 1
}
